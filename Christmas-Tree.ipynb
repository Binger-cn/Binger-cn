{
 "cells": [
  {
   "cell_type": "markdown",
   "metadata": {},
   "source": [
    "# Python画圣诞树\n",
    "## 先看看目标:\n",
    "```\n",
    "\n",
    "                                       *                                        \n",
    "                                     *****                                      \n",
    "                                   *********                                    \n",
    "                                 *************                                  \n",
    "                                    *******                                     \n",
    "                                  ***********                                   \n",
    "                                ***************                                 \n",
    "                              *******************                               \n",
    "                                 *************                                  \n",
    "                               *****************                                \n",
    "                             *********************                              \n",
    "                           *************************                            \n",
    "                              *******************                               \n",
    "                            ***********************                             \n",
    "                          ***************************                           \n",
    "                        *******************************                         \n",
    "                                       *                                        \n",
    "                                       *                                        \n",
    "                                       *                                        \n",
    "                                       *          \n",
    "```"
   ]
  },
  {
   "cell_type": "code",
   "execution_count": 15,
   "metadata": {},
   "outputs": [
    {
     "name": "stdout",
     "output_type": "stream",
     "text": [
      "                                       *                                        \n",
      "                                     *****                                      \n",
      "                                   *********                                    \n",
      "                                 *************                                  \n",
      "                                    *******                                     \n",
      "                                  ***********                                   \n",
      "                                ***************                                 \n",
      "                              *******************                               \n",
      "                                 *************                                  \n",
      "                               *****************                                \n",
      "                             *********************                              \n",
      "                           *************************                            \n",
      "                              *******************                               \n",
      "                            ***********************                             \n",
      "                          ***************************                           \n",
      "                        *******************************                         \n",
      "                                       *                                        \n",
      "                                       *                                        \n",
      "                                       *                                        \n",
      "                                       *                                        \n"
     ]
    }
   ],
   "source": [
    "for i in range(1,80,4): \n",
    "    n = i-i//16*10\n",
    "    if i > 64: n=1\n",
    "    print((n*'*').center(80))"
   ]
  }
 ],
 "metadata": {
  "interpreter": {
   "hash": "63fd5069d213b44bf678585dea6b12cceca9941eaf7f819626cde1f2670de90d"
  },
  "kernelspec": {
   "display_name": "Python 3 (ipykernel)",
   "language": "python",
   "name": "python3"
  },
  "language_info": {
   "codemirror_mode": {
    "name": "ipython",
    "version": 3
   },
   "file_extension": ".py",
   "mimetype": "text/x-python",
   "name": "python",
   "nbconvert_exporter": "python",
   "pygments_lexer": "ipython3",
   "version": "3.7.12"
  }
 },
 "nbformat": 4,
 "nbformat_minor": 4
}
